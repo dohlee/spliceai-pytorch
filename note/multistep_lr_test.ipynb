{
 "cells": [
  {
   "cell_type": "code",
   "execution_count": 5,
   "metadata": {},
   "outputs": [],
   "source": [
    "import torch\n",
    "import torch.optim as optim\n",
    "from torch.optim.lr_scheduler import MultiStepLR\n",
    "import matplotlib.pyplot as plt"
   ]
  },
  {
   "cell_type": "code",
   "execution_count": 25,
   "metadata": {},
   "outputs": [
    {
     "data": {
      "image/png": "[encoded data removed]",
      "text/plain": [
       "<Figure size 432x288 with 1 Axes>"
      ]
     },
     "metadata": {
      "needs_background": "light"
     },
     "output_type": "display_data"
    }
   ],
   "source": [
    "x = torch.nn.Parameter(torch.randn(4, 4))\n",
    "optimizer = optim.Adam([x], lr=1e-3)\n",
    "scheduler = MultiStepLR(optimizer, milestones=[6, 7, 8, 9], gamma=0.5)\n",
    "\n",
    "def get_lr(optimizer):\n",
    "    for param_group in optimizer.param_groups:\n",
    "        return param_group['lr']\n",
    "    \n",
    "lrs = []\n",
    "for i in range(10):\n",
    "    lrs.append(get_lr(optimizer))\n",
    "    scheduler.step()\n",
    "\n",
    "plt.plot(range(1, 11), lrs)\n",
    "for x in range(1, 11):\n",
    "    plt.axvline(x, c='0.8', alpha=0.5)"
   ]
  },
  {
   "cell_type": "code",
   "execution_count": 27,
   "metadata": {},
   "outputs": [
    {
     "data": {
      "text/plain": [
       "array([19, 11,  0, 15, 18, 10, 12, 14, 17,  6, 13,  1,  4,  9,  8,  5,  2,\n",
       "        3,  7, 16])"
      ]
     },
     "execution_count": 27,
     "metadata": {},
     "output_type": "execute_result"
    }
   ],
   "source": [
    "import numpy as np\n",
    "np.random.permutation(20)"
   ]
  }
 ],
 "metadata": {
  "kernelspec": {
   "display_name": "dohoon",
   "language": "python",
   "name": "dohoon"
  },
  "language_info": {
   "codemirror_mode": {
    "name": "ipython",
    "version": 3
   },
   "file_extension": ".py",
   "mimetype": "text/x-python",
   "name": "python",
   "nbconvert_exporter": "python",
   "pygments_lexer": "ipython3",
   "version": "3.9.13"
  }
 },
 "nbformat": 4,
 "nbformat_minor": 4
}
